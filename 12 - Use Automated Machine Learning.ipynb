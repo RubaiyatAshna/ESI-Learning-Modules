{
 "cells": [
  {
   "cell_type": "markdown",
   "metadata": {},
   "source": [
    "# Use Automated Machine Learning\n",
    "\n",
    "There are many kinds of machine learning algorithm that you can use to train a model, and sometimes it's not easy to determine the most effective algorithm for your particular data and prediction requirements. Additionally, you can significantly affect the predictive performance of a model by preprocessing the training data, using techniques such as normalization, missing feature imputation, and others. In your quest to find the *best* model for your requirements, you may need to try many combinations of algorithms and preprocessing transformations; which takes a lot of time and compute resources.\n",
    "\n",
    "Azure Machine Learning enables you to automate the comparison of models trained using different algorithms and preprocessing options. You can use the visual interface in [Azure Machine Learning studio](https://ml/azure.com) or the SDK to leverage this capability. The SDK gives you greater control over the settings for the automated machine learning experiment, but the visual interface is easier to use.\n",
    "\n",
    "## Before you start\n",
    "\n",
    "In addition to the latest version of the **azureml-sdk** and **azureml-widgets** packages, you'll need the **azureml-train-automl** package to run the code in this notebook. Run the cell below to verify that it is installed."
   ]
  },
  {
   "cell_type": "code",
   "execution_count": 1,
   "metadata": {},
   "outputs": [
    {
     "name": "stdout",
     "output_type": "stream",
     "text": [
      "Name: azureml-train-automl\r\n",
      "Version: 1.33.0\r\n",
      "Summary: automl\r\n",
      "Home-page: https://docs.microsoft.com/python/api/overview/azure/ml/?view=azure-ml-py\r\n",
      "Author: Microsoft Corp\r\n",
      "Author-email: None\r\n",
      "License: https://aka.ms/azureml-sdk-license\r\n",
      "Location: /anaconda/envs/azureml_py36/lib/python3.6/site-packages\r\n",
      "Requires: azureml-train-automl-runtime, azureml-automl-runtime, azureml-dataset-runtime, azureml-automl-core, azureml-train-automl-client\r\n",
      "Required-by: azureml-automl-dnn-nlp\r\n"
     ]
    }
   ],
   "source": [
    "!pip show azureml-train-automl"
   ]
  },
  {
   "cell_type": "markdown",
   "metadata": {},
   "source": [
    "## Connect to your workspace\n",
    "\n",
    "With the required SDK packages installed, now you're ready to connect to your workspace.\n",
    "\n",
    "> **Note**: If you haven't already established an authenticated session with your Azure subscription, you'll be prompted to authenticate by clicking a link, entering an authentication code, and signing into Azure."
   ]
  },
  {
   "cell_type": "code",
   "execution_count": 2,
   "metadata": {},
   "outputs": [
    {
     "name": "stdout",
     "output_type": "stream",
     "text": [
      "Ready to use Azure ML 1.33.0 to work with dp-100-module1-ml\n"
     ]
    }
   ],
   "source": [
    "import azureml.core\n",
    "from azureml.core import Workspace\n",
    "\n",
    "# Load the workspace from the saved config file\n",
    "ws = Workspace.from_config()\n",
    "print('Ready to use Azure ML {} to work with {}'.format(azureml.core.VERSION, ws.name))"
   ]
  },
  {
   "cell_type": "markdown",
   "metadata": {},
   "source": [
    "## Prepare data\n",
    "\n",
    "You don't need to create a training script for automated machine learning, but you do need to load the training data. In this case, you'll use a dataset containing details of diabetes patients, and then split this into two datasets: one for training, and another for model validation."
   ]
  },
  {
   "cell_type": "code",
   "execution_count": 3,
   "metadata": {},
   "outputs": [
    {
     "name": "stdout",
     "output_type": "stream",
     "text": [
      "Dataset already registered.\n",
      "Data ready!\n"
     ]
    }
   ],
   "source": [
    "from azureml.core import Dataset\n",
    "\n",
    "default_ds = ws.get_default_datastore()\n",
    "\n",
    "if 'diabetes dataset' not in ws.datasets:\n",
    "    default_ds.upload_files(files=['./data/diabetes.csv', './data/diabetes2.csv'], # Upload the diabetes csv files in /data\n",
    "                        target_path='diabetes-data/', # Put it in a folder path in the datastore\n",
    "                        overwrite=True, # Replace existing files of the same name\n",
    "                        show_progress=True)\n",
    "\n",
    "    #Create a tabular dataset from the path on the datastore (this may take a short while)\n",
    "    tab_data_set = Dataset.Tabular.from_delimited_files(path=(default_ds, 'diabetes-data/*.csv'))\n",
    "\n",
    "    # Register the tabular dataset\n",
    "    try:\n",
    "        tab_data_set = tab_data_set.register(workspace=ws, \n",
    "                                name='diabetes dataset',\n",
    "                                description='diabetes data',\n",
    "                                tags = {'format':'CSV'},\n",
    "                                create_new_version=True)\n",
    "        print('Dataset registered.')\n",
    "    except Exception as ex:\n",
    "        print(ex)\n",
    "else:\n",
    "    print('Dataset already registered.')\n",
    "\n",
    "\n",
    "# Split the dataset into training and validation subsets\n",
    "diabetes_ds = ws.datasets.get(\"diabetes dataset\")\n",
    "train_ds, test_ds = diabetes_ds.random_split(percentage=0.7, seed=123)\n",
    "print(\"Data ready!\")"
   ]
  },
  {
   "cell_type": "markdown",
   "metadata": {},
   "source": [
    "## Prepare compute\n",
    "\n",
    "One of the benefits of cloud compute is that it scales on-demand, enabling you to provision enough compute resources to process multiple child-runs of an automated machine learning experiment in parallel.\n",
    "\n",
    "Use the following code to specify an Azure Machine Learning compute cluster (it will be created if it doesn't already exist)..\n",
    "\n",
    "> **Important**: Change *your-compute-cluster* to the name of your compute cluster in the code below before running it! Cluster names must be globally unique names between 2 to 16 characters in length. Valid characters are letters, digits, and the - character."
   ]
  },
  {
   "cell_type": "code",
   "execution_count": 8,
   "metadata": {},
   "outputs": [
    {
     "name": "stdout",
     "output_type": "stream",
     "text": [
      "Found existing cluster, use it.\n"
     ]
    }
   ],
   "source": [
    "from azureml.core.compute import ComputeTarget, AmlCompute\n",
    "from azureml.core.compute_target import ComputeTargetException\n",
    "\n",
    "cluster_name = \"dp100clusterday2\"\n",
    "\n",
    "try:\n",
    "    # Check for existing compute target\n",
    "    training_cluster = ComputeTarget(workspace=ws, name=cluster_name)\n",
    "    print('Found existing cluster, use it.')\n",
    "except ComputeTargetException:\n",
    "    # If it doesn't already exist, create it\n",
    "    try:\n",
    "        compute_config = AmlCompute.provisioning_configuration(vm_size='STANDARD_DS11_V2', max_nodes=2)\n",
    "        training_cluster = ComputeTarget.create(ws, cluster_name, compute_config)\n",
    "        training_cluster.wait_for_completion(show_output=True)\n",
    "    except Exception as ex:\n",
    "        print(ex)\n",
    "    "
   ]
  },
  {
   "cell_type": "markdown",
   "metadata": {},
   "source": [
    "> **Note**: Compute instances and clusters are based on standard Azure virtual machine images. For this exercise, the *Standard_DS11_v2* image is recommended to achieve the optimal balance of cost and performance. If your subscription has a quota that does not include this image, choose an alternative image; but bear in mind that a larger image may incur higher cost and a smaller image may not be sufficient to complete the tasks. Alternatively, ask your Azure administrator to extend your quota.\n",
    "\n",
    "## Configure automated machine learning\n",
    "\n",
    "Now you're ready to configure the automated machine learning experiment.\n",
    "\n",
    "One of the most important configuration settings is the metric by which model performance should be evaluated. You can retrieve a list of the metrics that are calculated by automated machine learning for a particular type of model task (classification or regression) like this:"
   ]
  },
  {
   "cell_type": "code",
   "execution_count": 9,
   "metadata": {},
   "outputs": [
    {
     "name": "stdout",
     "output_type": "stream",
     "text": [
      "accuracy\n",
      "precision_score_weighted\n",
      "average_precision_score_weighted\n",
      "AUC_weighted\n",
      "norm_macro_recall\n"
     ]
    }
   ],
   "source": [
    "import azureml.train.automl.utilities as automl_utils\n",
    "\n",
    "for metric in automl_utils.get_primary_metrics('classification'):\n",
    "    print(metric)"
   ]
  },
  {
   "cell_type": "markdown",
   "metadata": {},
   "source": [
    "Having decided the metric you want to optimize (in this example, *AUC_weighted*), you can configure the automated machine learning run. To do this, you'll need an AutoML configuration that specifies the target metric as well as options like the data to use, how many combinations to try, and so on.\n",
    "\n",
    "> **Note**: In this example, you'll restrict the experiment to 4 iterations to reduce the amount of time taken. In reality, you'd likely try many more iterations."
   ]
  },
  {
   "cell_type": "code",
   "execution_count": 10,
   "metadata": {},
   "outputs": [
    {
     "name": "stdout",
     "output_type": "stream",
     "text": [
      "Ready for Auto ML run.\n"
     ]
    }
   ],
   "source": [
    "from azureml.train.automl import AutoMLConfig\n",
    "\n",
    "automl_config = AutoMLConfig(name='Automated ML Experiment',\n",
    "                             task='classification',\n",
    "                             compute_target=training_cluster,\n",
    "                             training_data = train_ds,\n",
    "                             validation_data = test_ds,\n",
    "                             label_column_name='Diabetic',\n",
    "                             iterations=4,\n",
    "                             primary_metric = 'AUC_weighted',\n",
    "                             max_concurrent_iterations=2,\n",
    "                             featurization='auto'\n",
    "                             )\n",
    "\n",
    "print(\"Ready for Auto ML run.\")"
   ]
  },
  {
   "cell_type": "markdown",
   "metadata": {},
   "source": [
    "## Run an automated machine learning experiment\n",
    "\n",
    "OK, you're ready to go. Let's run the automated machine learning experiment.\n",
    "\n",
    "> **Note**: This may take some time!"
   ]
  },
  {
   "cell_type": "code",
   "execution_count": 11,
   "metadata": {
    "scrolled": true
   },
   "outputs": [
    {
     "name": "stdout",
     "output_type": "stream",
     "text": [
      "Submitting Auto ML experiment...\n",
      "Submitting remote run.\n"
     ]
    },
    {
     "data": {
      "text/html": [
       "<table style=\"width:100%\"><tr><th>Experiment</th><th>Id</th><th>Type</th><th>Status</th><th>Details Page</th><th>Docs Page</th></tr><tr><td>mslearn-diabetes-automl-sdk</td><td>AutoML_d9042b46-973b-41bc-a639-f8de369aec2a</td><td>automl</td><td>NotStarted</td><td><a href=\"https://ml.azure.com/runs/AutoML_d9042b46-973b-41bc-a639-f8de369aec2a?wsid=/subscriptions/2bfd1cd3-851a-4267-8cd5-eff6767da991/resourcegroups/dp100-esi-course/workspaces/dp-100-module1-ml&amp;tid=a9c3340e-e390-4e58-8d69-193d480ee19a\" target=\"_blank\" rel=\"noopener\">Link to Azure Machine Learning studio</a></td><td><a href=\"https://docs.microsoft.com/en-us/python/api/overview/azure/ml/intro?view=azure-ml-py\" target=\"_blank\" rel=\"noopener\">Link to Documentation</a></td></tr></table>"
      ],
      "text/plain": [
       "<IPython.core.display.HTML object>"
      ]
     },
     "metadata": {},
     "output_type": "display_data"
    },
    {
     "data": {
      "application/vnd.jupyter.widget-view+json": {
       "model_id": "9245bfda72ea44d2beb072843083bffa",
       "version_major": 2,
       "version_minor": 0
      },
      "text/plain": [
       "_AutoMLWidget(widget_settings={'childWidgetDisplay': 'popup', 'send_telemetry': False, 'log_level': 'INFO', 's…"
      ]
     },
     "metadata": {},
     "output_type": "display_data"
    },
    {
     "data": {
      "application/aml.mini.widget.v1": "{\"status\": \"Completed\", \"workbench_run_details_uri\": \"https://ml.azure.com/runs/AutoML_d9042b46-973b-41bc-a639-f8de369aec2a?wsid=/subscriptions/2bfd1cd3-851a-4267-8cd5-eff6767da991/resourcegroups/dp100-esi-course/workspaces/dp-100-module1-ml&tid=a9c3340e-e390-4e58-8d69-193d480ee19a\", \"run_id\": \"AutoML_d9042b46-973b-41bc-a639-f8de369aec2a\", \"run_properties\": {\"run_id\": \"AutoML_d9042b46-973b-41bc-a639-f8de369aec2a\", \"created_utc\": \"2021-09-15T18:49:12.910683Z\", \"properties\": {\"num_iterations\": \"4\", \"training_type\": \"TrainFull\", \"acquisition_function\": \"EI\", \"primary_metric\": \"AUC_weighted\", \"train_split\": \"0\", \"acquisition_parameter\": \"0\", \"num_cross_validation\": null, \"target\": \"dp100clusterday2\", \"AMLSettingsJsonString\": \"{\\\"path\\\":null,\\\"name\\\":\\\"Automated ML Experiment\\\",\\\"subscription_id\\\":\\\"2bfd1cd3-851a-4267-8cd5-eff6767da991\\\",\\\"resource_group\\\":\\\"dp100-esi-course\\\",\\\"workspace_name\\\":\\\"dp-100-module1-ml\\\",\\\"region\\\":\\\"canadacentral\\\",\\\"compute_target\\\":\\\"dp100clusterday2\\\",\\\"spark_service\\\":null,\\\"azure_service\\\":\\\"remote\\\",\\\"many_models\\\":false,\\\"pipeline_fetch_max_batch_size\\\":1,\\\"enable_batch_run\\\":false,\\\"enable_run_restructure\\\":false,\\\"start_auxiliary_runs_before_parent_complete\\\":false,\\\"enable_code_generation\\\":false,\\\"iterations\\\":4,\\\"primary_metric\\\":\\\"AUC_weighted\\\",\\\"task_type\\\":\\\"classification\\\",\\\"data_script\\\":null,\\\"test_size\\\":0.0,\\\"validation_size\\\":0.0,\\\"n_cross_validations\\\":null,\\\"y_min\\\":null,\\\"y_max\\\":null,\\\"num_classes\\\":null,\\\"featurization\\\":\\\"auto\\\",\\\"_ignore_package_version_incompatibilities\\\":false,\\\"is_timeseries\\\":false,\\\"max_cores_per_iteration\\\":1,\\\"max_concurrent_iterations\\\":2,\\\"iteration_timeout_minutes\\\":null,\\\"mem_in_mb\\\":null,\\\"enforce_time_on_windows\\\":false,\\\"experiment_timeout_minutes\\\":8640,\\\"experiment_exit_score\\\":null,\\\"whitelist_models\\\":null,\\\"blacklist_algos\\\":[\\\"TensorFlowLinearClassifier\\\",\\\"TensorFlowDNN\\\"],\\\"supported_models\\\":[\\\"RandomForest\\\",\\\"XGBoostClassifier\\\",\\\"LinearSVM\\\",\\\"AveragedPerceptronClassifier\\\",\\\"BernoulliNaiveBayes\\\",\\\"LightGBM\\\",\\\"GradientBoosting\\\",\\\"ExtremeRandomTrees\\\",\\\"TensorFlowLinearClassifier\\\",\\\"MultinomialNaiveBayes\\\",\\\"TensorFlowDNN\\\",\\\"LogisticRegression\\\",\\\"DecisionTree\\\",\\\"SGD\\\",\\\"SVM\\\",\\\"KNN\\\"],\\\"private_models\\\":[],\\\"auto_blacklist\\\":true,\\\"blacklist_samples_reached\\\":false,\\\"exclude_nan_labels\\\":true,\\\"verbosity\\\":20,\\\"_debug_log\\\":\\\"azureml_automl.log\\\",\\\"show_warnings\\\":false,\\\"model_explainability\\\":true,\\\"service_url\\\":null,\\\"sdk_url\\\":null,\\\"sdk_packages\\\":null,\\\"enable_onnx_compatible_models\\\":false,\\\"enable_split_onnx_featurizer_estimator_models\\\":false,\\\"vm_type\\\":\\\"STANDARD_D11_V2\\\",\\\"telemetry_verbosity\\\":20,\\\"send_telemetry\\\":true,\\\"enable_dnn\\\":false,\\\"scenario\\\":\\\"SDK-1.13.0\\\",\\\"environment_label\\\":null,\\\"save_mlflow\\\":false,\\\"force_text_dnn\\\":false,\\\"enable_feature_sweeping\\\":true,\\\"enable_early_stopping\\\":true,\\\"early_stopping_n_iters\\\":10,\\\"metrics\\\":null,\\\"enable_metric_confidence\\\":false,\\\"enable_ensembling\\\":true,\\\"enable_stack_ensembling\\\":true,\\\"ensemble_iterations\\\":4,\\\"enable_tf\\\":false,\\\"enable_subsampling\\\":false,\\\"subsample_seed\\\":null,\\\"enable_nimbusml\\\":false,\\\"enable_streaming\\\":false,\\\"force_streaming\\\":false,\\\"track_child_runs\\\":true,\\\"allowed_private_models\\\":[],\\\"label_column_name\\\":\\\"Diabetic\\\",\\\"weight_column_name\\\":null,\\\"cv_split_column_names\\\":null,\\\"enable_local_managed\\\":false,\\\"_local_managed_run_id\\\":null,\\\"cost_mode\\\":1,\\\"lag_length\\\":0,\\\"metric_operation\\\":\\\"maximize\\\",\\\"preprocess\\\":true}\", \"DataPrepJsonString\": \"{\\\\\\\"training_data\\\\\\\": {\\\\\\\"datasetId\\\\\\\": \\\\\\\"e9ae576e-135a-4a3d-bd78-866aaa03d29b\\\\\\\"}, \\\\\\\"validation_data\\\\\\\": {\\\\\\\"datasetId\\\\\\\": \\\\\\\"ba5ab67d-9a7f-4d8f-99b8-3f2c8197cff5\\\\\\\"}, \\\\\\\"datasets\\\\\\\": 0}\", \"EnableSubsampling\": \"False\", \"runTemplate\": \"AutoML\", \"azureml.runsource\": \"automl\", \"display_task_type\": \"classification\", \"dependencies_versions\": \"{\\\"azureml-widgets\\\": \\\"1.33.0\\\", \\\"azureml-train\\\": \\\"1.33.0\\\", \\\"azureml-train-restclients-hyperdrive\\\": \\\"1.33.0\\\", \\\"azureml-train-core\\\": \\\"1.33.0\\\", \\\"azureml-train-automl\\\": \\\"1.33.0\\\", \\\"azureml-train-automl-runtime\\\": \\\"1.33.0\\\", \\\"azureml-train-automl-client\\\": \\\"1.33.0\\\", \\\"azureml-tensorboard\\\": \\\"1.33.0\\\", \\\"azureml-telemetry\\\": \\\"1.33.0\\\", \\\"azureml-sdk\\\": \\\"1.33.0\\\", \\\"azureml-samples\\\": \\\"0+unknown\\\", \\\"azureml-responsibleai\\\": \\\"1.33.0\\\", \\\"azureml-pipeline\\\": \\\"1.33.0\\\", \\\"azureml-pipeline-steps\\\": \\\"1.33.0\\\", \\\"azureml-pipeline-core\\\": \\\"1.33.0\\\", \\\"azureml-opendatasets\\\": \\\"1.33.0\\\", \\\"azureml-mlflow\\\": \\\"1.33.0\\\", \\\"azureml-interpret\\\": \\\"1.33.0\\\", \\\"azureml-explain-model\\\": \\\"1.33.0\\\", \\\"azureml-defaults\\\": \\\"1.33.0\\\", \\\"azureml-dataset-runtime\\\": \\\"1.33.0\\\", \\\"azureml-dataprep\\\": \\\"2.20.1\\\", \\\"azureml-dataprep-rslex\\\": \\\"1.18.0\\\", \\\"azureml-dataprep-native\\\": \\\"38.0.0\\\", \\\"azureml-datadrift\\\": \\\"1.33.0\\\", \\\"azureml-core\\\": \\\"1.33.0\\\", \\\"azureml-contrib-services\\\": \\\"1.33.0\\\", \\\"azureml-contrib-server\\\": \\\"1.33.0\\\", \\\"azureml-contrib-reinforcementlearning\\\": \\\"1.33.0\\\", \\\"azureml-contrib-pipeline-steps\\\": \\\"1.33.0\\\", \\\"azureml-contrib-notebook\\\": \\\"1.33.0\\\", \\\"azureml-contrib-fairness\\\": \\\"1.33.0\\\", \\\"azureml-contrib-dataset\\\": \\\"1.33.0\\\", \\\"azureml-cli-common\\\": \\\"1.33.0\\\", \\\"azureml-automl-runtime\\\": \\\"1.33.0\\\", \\\"azureml-automl-dnn-nlp\\\": \\\"1.33.0\\\", \\\"azureml-automl-core\\\": \\\"1.33.0\\\", \\\"azureml-accel-models\\\": \\\"1.33.0\\\"}\", \"_aml_system_scenario_identification\": \"Remote.Parent\", \"ClientType\": \"SDK\", \"environment_cpu_name\": \"AzureML-AutoML\", \"environment_cpu_label\": \"prod\", \"environment_gpu_name\": \"AzureML-AutoML-GPU\", \"environment_gpu_label\": \"prod\", \"root_attribution\": \"automl\", \"attribution\": \"AutoML\", \"Orchestrator\": \"AutoML\", \"CancelUri\": \"https://canadacentral.api.azureml.ms/jasmine/v1.0/subscriptions/2bfd1cd3-851a-4267-8cd5-eff6767da991/resourceGroups/dp100-esi-course/providers/Microsoft.MachineLearningServices/workspaces/dp-100-module1-ml/experimentids/04e69191-703d-4472-8e11-6ab15d1bd33d/cancel/AutoML_d9042b46-973b-41bc-a639-f8de369aec2a\", \"azureml.git.repository_uri\": \"git@github.com:RubaiyatAshna/ESI-Learning-Modules.git\", \"mlflow.source.git.repoURL\": \"git@github.com:RubaiyatAshna/ESI-Learning-Modules.git\", \"azureml.git.branch\": \"main\", \"mlflow.source.git.branch\": \"main\", \"azureml.git.commit\": \"8516fb942eff0e5d2cfa71d4dce0642fc2eebf0c\", \"mlflow.source.git.commit\": \"8516fb942eff0e5d2cfa71d4dce0642fc2eebf0c\", \"azureml.git.dirty\": \"True\", \"ClientSdkVersion\": \"1.33.1.post1\", \"snapshotId\": \"00000000-0000-0000-0000-000000000000\", \"SetupRunId\": \"AutoML_d9042b46-973b-41bc-a639-f8de369aec2a_setup\", \"SetupRunContainerId\": \"dcid.AutoML_d9042b46-973b-41bc-a639-f8de369aec2a_setup\", \"FeaturizationRunJsonPath\": \"featurizer_container.json\", \"FeaturizationRunId\": \"AutoML_d9042b46-973b-41bc-a639-f8de369aec2a_featurize\", \"ProblemInfoJsonString\": \"{\\\"dataset_num_categorical\\\": 0, \\\"is_sparse\\\": true, \\\"subsampling\\\": false, \\\"has_extra_col\\\": true, \\\"dataset_classes\\\": 2, \\\"dataset_features\\\": 23, \\\"dataset_samples\\\": 10555, \\\"single_frequency_class_detected\\\": false}\", \"ModelExplainRunId\": \"AutoML_d9042b46-973b-41bc-a639-f8de369aec2a_ModelExplain\"}, \"tags\": {\"model_explain_run\": \"best_run\", \"_aml_system_azureml.automlComponent\": \"AutoML\", \"pipeline_id\": \"\", \"score\": \"\", \"predicted_cost\": \"\", \"fit_time\": \"\", \"training_percent\": \"\", \"iteration\": \"\", \"run_preprocessor\": \"\", \"run_algorithm\": \"\", \"automl_best_child_run_id\": \"AutoML_d9042b46-973b-41bc-a639-f8de369aec2a_0\", \"model_explain_best_run_child_id\": \"AutoML_d9042b46-973b-41bc-a639-f8de369aec2a_0\"}, \"end_time_utc\": \"2021-09-15T19:01:44.29948Z\", \"status\": \"Completed\", \"log_files\": {}, \"log_groups\": [], \"run_duration\": \"0:12:31\", \"run_number\": \"1\", \"run_queued_details\": {\"status\": \"Completed\", \"details\": null}}, \"child_runs\": [{\"run_id\": \"AutoML_d9042b46-973b-41bc-a639-f8de369aec2a_0\", \"run_number\": 5, \"metric\": null, \"status\": \"Completed\", \"run_type\": \"azureml.scriptrun\", \"training_percent\": \"100\", \"start_time\": \"2021-09-15T18:57:44.099733Z\", \"end_time\": \"2021-09-15T18:58:38.283304Z\", \"created_time\": \"2021-09-15T18:57:35.682472Z\", \"created_time_dt\": \"2021-09-15T18:57:35.682472Z\", \"duration\": \"0:01:02\", \"iteration\": \"0\", \"goal\": \"AUC_weighted_max\", \"run_name\": \"MaxAbsScaler, LightGBM\", \"run_properties\": \"copy=True\", \"primary_metric\": 0.99048126, \"best_metric\": 0.99048126}, {\"run_id\": \"AutoML_d9042b46-973b-41bc-a639-f8de369aec2a_1\", \"run_number\": 6, \"metric\": null, \"status\": \"Completed\", \"run_type\": \"azureml.scriptrun\", \"training_percent\": \"100\", \"start_time\": \"2021-09-15T18:58:35.509901Z\", \"end_time\": \"2021-09-15T18:59:39.018147Z\", \"created_time\": \"2021-09-15T18:57:35.718176Z\", \"created_time_dt\": \"2021-09-15T18:57:35.718176Z\", \"duration\": \"0:02:03\", \"iteration\": \"1\", \"goal\": \"AUC_weighted_max\", \"run_name\": \"MaxAbsScaler, XGBoostClassifier\", \"run_properties\": \"copy=True\", \"primary_metric\": 0.98822706, \"best_metric\": 0.99048126}, {\"run_id\": \"AutoML_d9042b46-973b-41bc-a639-f8de369aec2a_2\", \"run_number\": 7, \"metric\": null, \"status\": \"Completed\", \"run_type\": \"azureml.scriptrun\", \"training_percent\": \"100\", \"start_time\": \"2021-09-15T19:00:40.767896Z\", \"end_time\": \"2021-09-15T19:01:42.866642Z\", \"created_time\": \"2021-09-15T18:59:39.849672Z\", \"created_time_dt\": \"2021-09-15T18:59:39.849672Z\", \"duration\": \"0:02:03\", \"iteration\": \"2\", \"goal\": \"AUC_weighted_max\", \"run_name\": \"VotingEnsemble\", \"run_properties\": \"\\n    estimators=[('0', Pipeline(\\n        memory=None,\\n        steps=[('maxabsscaler', MaxAbsScaler(\\n            copy=True\\n        \", \"primary_metric\": 0.99029273, \"best_metric\": 0.99048126}, {\"run_id\": \"AutoML_d9042b46-973b-41bc-a639-f8de369aec2a_3\", \"run_number\": 8, \"metric\": null, \"status\": \"Completed\", \"run_type\": \"azureml.scriptrun\", \"training_percent\": \"100\", \"start_time\": \"2021-09-15T18:59:45.907848Z\", \"end_time\": \"2021-09-15T19:00:42.6822Z\", \"created_time\": \"2021-09-15T18:59:39.90209Z\", \"created_time_dt\": \"2021-09-15T18:59:39.90209Z\", \"duration\": \"0:01:02\", \"iteration\": \"3\", \"goal\": \"AUC_weighted_max\", \"run_name\": \"StackEnsemble\", \"run_properties\": \"\\n    base_learners=[('0', Pipeline(\\n        memory=None,\\n        steps=[('maxabsscaler', MaxAbsScaler(\\n            copy=True\\n        \", \"primary_metric\": 0.98997382, \"best_metric\": 0.99048126}], \"children_metrics\": {\"categories\": [0], \"series\": {\"log_loss\": [{\"categories\": [\"0\", \"1\", \"2\", \"3\"], \"mode\": \"markers\", \"name\": \"log_loss\", \"stepped\": false, \"type\": \"scatter\", \"data\": [0.1186120500342212, 0.14557718390107108, 0.12239111107696071, 0.16753062052441928]}, {\"categories\": [\"0\", \"1\", \"2\", \"3\"], \"mode\": \"lines\", \"name\": \"log_loss_min\", \"stepped\": true, \"type\": \"scatter\", \"data\": [0.1186120500342212, 0.1186120500342212, 0.1186120500342212, 0.1186120500342212]}], \"norm_macro_recall\": [{\"categories\": [\"0\", \"1\", \"2\", \"3\"], \"mode\": \"markers\", \"name\": \"norm_macro_recall\", \"stepped\": false, \"type\": \"scatter\", \"data\": [0.8902205614498688, 0.8706236604437856, 0.8905577158665916, 0.8793896752785799]}, {\"categories\": [\"0\", \"1\", \"2\", \"3\"], \"mode\": \"lines\", \"name\": \"norm_macro_recall_max\", \"stepped\": true, \"type\": \"scatter\", \"data\": [0.8902205614498688, 0.8902205614498688, 0.8905577158665916, 0.8905577158665916]}], \"average_precision_score_macro\": [{\"categories\": [\"0\", \"1\", \"2\", \"3\"], \"mode\": \"markers\", \"name\": \"average_precision_score_macro\", \"stepped\": false, \"type\": \"scatter\", \"data\": [0.9888863976623419, 0.9863803228939675, 0.9887602234083721, 0.9884285278790617]}, {\"categories\": [\"0\", \"1\", \"2\", \"3\"], \"mode\": \"lines\", \"name\": \"average_precision_score_macro_max\", \"stepped\": true, \"type\": \"scatter\", \"data\": [0.9888863976623419, 0.9888863976623419, 0.9888863976623419, 0.9888863976623419]}], \"recall_score_weighted\": [{\"categories\": [\"0\", \"1\", \"2\", \"3\"], \"mode\": \"markers\", \"name\": \"recall_score_weighted\", \"stepped\": false, \"type\": \"scatter\", \"data\": [0.9520809898762654, 0.944206974128234, 0.9523059617547807, 0.9500562429696288]}, {\"categories\": [\"0\", \"1\", \"2\", \"3\"], \"mode\": \"lines\", \"name\": \"recall_score_weighted_max\", \"stepped\": true, \"type\": \"scatter\", \"data\": [0.9520809898762654, 0.9520809898762654, 0.9523059617547807, 0.9523059617547807]}], \"weighted_accuracy\": [{\"categories\": [\"0\", \"1\", \"2\", \"3\"], \"mode\": \"markers\", \"name\": \"weighted_accuracy\", \"stepped\": false, \"type\": \"scatter\", \"data\": [0.9576485145517856, 0.951311550164289, 0.9579185290093026, 0.958331926059736]}, {\"categories\": [\"0\", \"1\", \"2\", \"3\"], \"mode\": \"lines\", \"name\": \"weighted_accuracy_max\", \"stepped\": true, \"type\": \"scatter\", \"data\": [0.9576485145517856, 0.9576485145517856, 0.9579185290093026, 0.958331926059736]}], \"AUC_micro\": [{\"categories\": [\"0\", \"1\", \"2\", \"3\"], \"mode\": \"markers\", \"name\": \"AUC_micro\", \"stepped\": false, \"type\": \"scatter\", \"data\": [0.9916008305485999, 0.9896202682201284, 0.991432139598973, 0.9896036167582539]}, {\"categories\": [\"0\", \"1\", \"2\", \"3\"], \"mode\": \"lines\", \"name\": \"AUC_micro_max\", \"stepped\": true, \"type\": \"scatter\", \"data\": [0.9916008305485999, 0.9916008305485999, 0.9916008305485999, 0.9916008305485999]}], \"precision_score_micro\": [{\"categories\": [\"0\", \"1\", \"2\", \"3\"], \"mode\": \"markers\", \"name\": \"precision_score_micro\", \"stepped\": false, \"type\": \"scatter\", \"data\": [0.9520809898762654, 0.944206974128234, 0.9523059617547807, 0.9500562429696288]}, {\"categories\": [\"0\", \"1\", \"2\", \"3\"], \"mode\": \"lines\", \"name\": \"precision_score_micro_max\", \"stepped\": true, \"type\": \"scatter\", \"data\": [0.9520809898762654, 0.9520809898762654, 0.9523059617547807, 0.9523059617547807]}], \"recall_score_micro\": [{\"categories\": [\"0\", \"1\", \"2\", \"3\"], \"mode\": \"markers\", \"name\": \"recall_score_micro\", \"stepped\": false, \"type\": \"scatter\", \"data\": [0.9520809898762654, 0.944206974128234, 0.9523059617547807, 0.9500562429696288]}, {\"categories\": [\"0\", \"1\", \"2\", \"3\"], \"mode\": \"lines\", \"name\": \"recall_score_micro_max\", \"stepped\": true, \"type\": \"scatter\", \"data\": [0.9520809898762654, 0.9520809898762654, 0.9523059617547807, 0.9523059617547807]}], \"recall_score_macro\": [{\"categories\": [\"0\", \"1\", \"2\", \"3\"], \"mode\": \"markers\", \"name\": \"recall_score_macro\", \"stepped\": false, \"type\": \"scatter\", \"data\": [0.9451102807249344, 0.9353118302218928, 0.9452788579332958, 0.93969483763929]}, {\"categories\": [\"0\", \"1\", \"2\", \"3\"], \"mode\": \"lines\", \"name\": \"recall_score_macro_max\", \"stepped\": true, \"type\": \"scatter\", \"data\": [0.9451102807249344, 0.9451102807249344, 0.9452788579332958, 0.9452788579332958]}], \"average_precision_score_micro\": [{\"categories\": [\"0\", \"1\", \"2\", \"3\"], \"mode\": \"markers\", \"name\": \"average_precision_score_micro\", \"stepped\": false, \"type\": \"scatter\", \"data\": [0.9918359683181054, 0.9898548572689291, 0.9916360004915719, 0.9897043633190965]}, {\"categories\": [\"0\", \"1\", \"2\", \"3\"], \"mode\": \"lines\", \"name\": \"average_precision_score_micro_max\", \"stepped\": true, \"type\": \"scatter\", \"data\": [0.9918359683181054, 0.9918359683181054, 0.9918359683181054, 0.9918359683181054]}], \"precision_score_macro\": [{\"categories\": [\"0\", \"1\", \"2\", \"3\"], \"mode\": \"markers\", \"name\": \"precision_score_macro\", \"stepped\": false, \"type\": \"scatter\", \"data\": [0.9467885716011675, 0.9386313269550405, 0.9471122702591099, 0.9472061894248921]}, {\"categories\": [\"0\", \"1\", \"2\", \"3\"], \"mode\": \"lines\", \"name\": \"precision_score_macro_max\", \"stepped\": true, \"type\": \"scatter\", \"data\": [0.9467885716011675, 0.9467885716011675, 0.9471122702591099, 0.9472061894248921]}], \"f1_score_weighted\": [{\"categories\": [\"0\", \"1\", \"2\", \"3\"], \"mode\": \"markers\", \"name\": \"f1_score_weighted\", \"stepped\": false, \"type\": \"scatter\", \"data\": [0.952035905457969, 0.9441010177866949, 0.9522569685971016, 0.9498447788671798]}, {\"categories\": [\"0\", \"1\", \"2\", \"3\"], \"mode\": \"lines\", \"name\": \"f1_score_weighted_max\", \"stepped\": true, \"type\": \"scatter\", \"data\": [0.952035905457969, 0.952035905457969, 0.9522569685971016, 0.9522569685971016]}], \"average_precision_score_weighted\": [{\"categories\": [\"0\", \"1\", \"2\", \"3\"], \"mode\": \"markers\", \"name\": \"average_precision_score_weighted\", \"stepped\": false, \"type\": \"scatter\", \"data\": [0.9910085472336622, 0.9889316609728803, 0.9908730553007605, 0.9905886608770056]}, {\"categories\": [\"0\", \"1\", \"2\", \"3\"], \"mode\": \"lines\", \"name\": \"average_precision_score_weighted_max\", \"stepped\": true, \"type\": \"scatter\", \"data\": [0.9910085472336622, 0.9910085472336622, 0.9910085472336622, 0.9910085472336622]}], \"matthews_correlation\": [{\"categories\": [\"0\", \"1\", \"2\", \"3\"], \"mode\": \"markers\", \"name\": \"matthews_correlation\", \"stepped\": false, \"type\": \"scatter\", \"data\": [0.8918972733002116, 0.8739368529349385, 0.8923892448229966, 0.8868692188828371]}, {\"categories\": [\"0\", \"1\", \"2\", \"3\"], \"mode\": \"lines\", \"name\": \"matthews_correlation_max\", \"stepped\": true, \"type\": \"scatter\", \"data\": [0.8918972733002116, 0.8918972733002116, 0.8923892448229966, 0.8923892448229966]}], \"f1_score_micro\": [{\"categories\": [\"0\", \"1\", \"2\", \"3\"], \"mode\": \"markers\", \"name\": \"f1_score_micro\", \"stepped\": false, \"type\": \"scatter\", \"data\": [0.9520809898762654, 0.944206974128234, 0.9523059617547807, 0.9500562429696288]}, {\"categories\": [\"0\", \"1\", \"2\", \"3\"], \"mode\": \"lines\", \"name\": \"f1_score_micro_max\", \"stepped\": true, \"type\": \"scatter\", \"data\": [0.9520809898762654, 0.9520809898762654, 0.9523059617547807, 0.9523059617547807]}], \"AUC_weighted\": [{\"categories\": [\"0\", \"1\", \"2\", \"3\"], \"mode\": \"markers\", \"name\": \"AUC_weighted\", \"stepped\": false, \"type\": \"scatter\", \"data\": [0.9904812577250306, 0.9882270647231618, 0.9902927339233877, 0.9899738163919508]}, {\"categories\": [\"0\", \"1\", \"2\", \"3\"], \"mode\": \"lines\", \"name\": \"AUC_weighted_max\", \"stepped\": true, \"type\": \"scatter\", \"data\": [0.9904812577250306, 0.9904812577250306, 0.9904812577250306, 0.9904812577250306]}], \"AUC_macro\": [{\"categories\": [\"0\", \"1\", \"2\", \"3\"], \"mode\": \"markers\", \"name\": \"AUC_macro\", \"stepped\": false, \"type\": \"scatter\", \"data\": [0.9904812577250306, 0.9882270647231617, 0.9902927339233878, 0.9899738163919508]}, {\"categories\": [\"0\", \"1\", \"2\", \"3\"], \"mode\": \"lines\", \"name\": \"AUC_macro_max\", \"stepped\": true, \"type\": \"scatter\", \"data\": [0.9904812577250306, 0.9904812577250306, 0.9904812577250306, 0.9904812577250306]}], \"precision_score_weighted\": [{\"categories\": [\"0\", \"1\", \"2\", \"3\"], \"mode\": \"markers\", \"name\": \"precision_score_weighted\", \"stepped\": false, \"type\": \"scatter\", \"data\": [0.9520038306966419, 0.9440467334517999, 0.9522234676476355, 0.9498834033358355]}, {\"categories\": [\"0\", \"1\", \"2\", \"3\"], \"mode\": \"lines\", \"name\": \"precision_score_weighted_max\", \"stepped\": true, \"type\": \"scatter\", \"data\": [0.9520038306966419, 0.9520038306966419, 0.9522234676476355, 0.9522234676476355]}], \"accuracy\": [{\"categories\": [\"0\", \"1\", \"2\", \"3\"], \"mode\": \"markers\", \"name\": \"accuracy\", \"stepped\": false, \"type\": \"scatter\", \"data\": [0.9520809898762654, 0.944206974128234, 0.9523059617547807, 0.9500562429696288]}, {\"categories\": [\"0\", \"1\", \"2\", \"3\"], \"mode\": \"lines\", \"name\": \"accuracy_max\", \"stepped\": true, \"type\": \"scatter\", \"data\": [0.9520809898762654, 0.9520809898762654, 0.9523059617547807, 0.9523059617547807]}], \"balanced_accuracy\": [{\"categories\": [\"0\", \"1\", \"2\", \"3\"], \"mode\": \"markers\", \"name\": \"balanced_accuracy\", \"stepped\": false, \"type\": \"scatter\", \"data\": [0.9451102807249344, 0.9353118302218928, 0.9452788579332958, 0.93969483763929]}, {\"categories\": [\"0\", \"1\", \"2\", \"3\"], \"mode\": \"lines\", \"name\": \"balanced_accuracy_max\", \"stepped\": true, \"type\": \"scatter\", \"data\": [0.9451102807249344, 0.9451102807249344, 0.9452788579332958, 0.9452788579332958]}], \"f1_score_macro\": [{\"categories\": [\"0\", \"1\", \"2\", \"3\"], \"mode\": \"markers\", \"name\": \"f1_score_macro\", \"stepped\": false, \"type\": \"scatter\", \"data\": [0.9459413118209691, 0.9369393323381163, 0.9461858998080295, 0.9432937971933938]}, {\"categories\": [\"0\", \"1\", \"2\", \"3\"], \"mode\": \"lines\", \"name\": \"f1_score_macro_max\", \"stepped\": true, \"type\": \"scatter\", \"data\": [0.9459413118209691, 0.9459413118209691, 0.9461858998080295, 0.9461858998080295]}]}, \"metricName\": null, \"primaryMetricName\": \"AUC_weighted\", \"showLegend\": false}, \"run_metrics\": [{\"name\": \"experiment_status\", \"run_id\": \"AutoML_d9042b46-973b-41bc-a639-f8de369aec2a\", \"categories\": [0, 1, 2, 3, 4, 5, 6, 7, 8, 9, 10, 11, 12], \"series\": [{\"data\": [\"DatasetEvaluation\", \"FeaturesGeneration\", \"DatasetFeaturization\", \"DatasetFeaturizationCompleted\", \"ModelSelection\", \"BestRunExplainModel\", \"ModelExplanationDataSetSetup\", \"PickSurrogateModel\", \"EngineeredFeatureExplanations\", \"EngineeredFeatureExplanations\", \"RawFeaturesExplanations\", \"RawFeaturesExplanations\", \"BestRunExplainModel\"]}]}, {\"name\": \"experiment_status_description\", \"run_id\": \"AutoML_d9042b46-973b-41bc-a639-f8de369aec2a\", \"categories\": [0, 1, 2, 3, 4, 5, 6, 7, 8, 9, 10, 11, 12], \"series\": [{\"data\": [\"Gathering dataset statistics.\", \"Generating features for the dataset.\", \"Beginning to fit featurizers and featurize the dataset.\", \"Completed fit featurizers and featurizing the dataset.\", \"Beginning model selection.\", \"Best run model explanations started\", \"Model explanations data setup completed\", \"Choosing LightGBM as the surrogate model for explanations\", \"Computation of engineered features started\", \"Computation of engineered features completed\", \"Computation of raw features started\", \"Computation of raw features completed\", \"Best run model explanations completed\"]}]}, {\"name\": \"average_precision_score_macro\", \"run_id\": \"AutoML_d9042b46-973b-41bc-a639-f8de369aec2a\", \"categories\": [0], \"series\": [{\"data\": [0.9888863976623419]}]}, {\"name\": \"AUC_weighted\", \"run_id\": \"AutoML_d9042b46-973b-41bc-a639-f8de369aec2a\", \"categories\": [0], \"series\": [{\"data\": [0.9904812577250306]}]}, {\"name\": \"AUC_macro\", \"run_id\": \"AutoML_d9042b46-973b-41bc-a639-f8de369aec2a\", \"categories\": [0], \"series\": [{\"data\": [0.9904812577250306]}]}, {\"name\": \"average_precision_score_micro\", \"run_id\": \"AutoML_d9042b46-973b-41bc-a639-f8de369aec2a\", \"categories\": [0], \"series\": [{\"data\": [0.9918359683181054]}]}, {\"name\": \"recall_score_micro\", \"run_id\": \"AutoML_d9042b46-973b-41bc-a639-f8de369aec2a\", \"categories\": [0], \"series\": [{\"data\": [0.9520809898762654]}]}, {\"name\": \"recall_score_macro\", \"run_id\": \"AutoML_d9042b46-973b-41bc-a639-f8de369aec2a\", \"categories\": [0], \"series\": [{\"data\": [0.9451102807249344]}]}, {\"name\": \"balanced_accuracy\", \"run_id\": \"AutoML_d9042b46-973b-41bc-a639-f8de369aec2a\", \"categories\": [0], \"series\": [{\"data\": [0.9451102807249344]}]}, {\"name\": \"AUC_micro\", \"run_id\": \"AutoML_d9042b46-973b-41bc-a639-f8de369aec2a\", \"categories\": [0], \"series\": [{\"data\": [0.9916008305485999]}]}, {\"name\": \"f1_score_weighted\", \"run_id\": \"AutoML_d9042b46-973b-41bc-a639-f8de369aec2a\", \"categories\": [0], \"series\": [{\"data\": [0.952035905457969]}]}, {\"name\": \"average_precision_score_weighted\", \"run_id\": \"AutoML_d9042b46-973b-41bc-a639-f8de369aec2a\", \"categories\": [0], \"series\": [{\"data\": [0.9910085472336622]}]}, {\"name\": \"weighted_accuracy\", \"run_id\": \"AutoML_d9042b46-973b-41bc-a639-f8de369aec2a\", \"categories\": [0], \"series\": [{\"data\": [0.9576485145517856]}]}, {\"name\": \"precision_score_macro\", \"run_id\": \"AutoML_d9042b46-973b-41bc-a639-f8de369aec2a\", \"categories\": [0], \"series\": [{\"data\": [0.9467885716011675]}]}, {\"name\": \"precision_score_weighted\", \"run_id\": \"AutoML_d9042b46-973b-41bc-a639-f8de369aec2a\", \"categories\": [0], \"series\": [{\"data\": [0.9520038306966419]}]}, {\"name\": \"recall_score_weighted\", \"run_id\": \"AutoML_d9042b46-973b-41bc-a639-f8de369aec2a\", \"categories\": [0], \"series\": [{\"data\": [0.9520809898762654]}]}, {\"name\": \"f1_score_micro\", \"run_id\": \"AutoML_d9042b46-973b-41bc-a639-f8de369aec2a\", \"categories\": [0], \"series\": [{\"data\": [0.9520809898762654]}]}, {\"name\": \"accuracy\", \"run_id\": \"AutoML_d9042b46-973b-41bc-a639-f8de369aec2a\", \"categories\": [0], \"series\": [{\"data\": [0.9520809898762654]}]}, {\"name\": \"matthews_correlation\", \"run_id\": \"AutoML_d9042b46-973b-41bc-a639-f8de369aec2a\", \"categories\": [0], \"series\": [{\"data\": [0.8918972733002116]}]}, {\"name\": \"f1_score_macro\", \"run_id\": \"AutoML_d9042b46-973b-41bc-a639-f8de369aec2a\", \"categories\": [0], \"series\": [{\"data\": [0.9459413118209691]}]}, {\"name\": \"precision_score_micro\", \"run_id\": \"AutoML_d9042b46-973b-41bc-a639-f8de369aec2a\", \"categories\": [0], \"series\": [{\"data\": [0.9520809898762654]}]}, {\"name\": \"log_loss\", \"run_id\": \"AutoML_d9042b46-973b-41bc-a639-f8de369aec2a\", \"categories\": [0], \"series\": [{\"data\": [0.1186120500342212]}]}, {\"name\": \"norm_macro_recall\", \"run_id\": \"AutoML_d9042b46-973b-41bc-a639-f8de369aec2a\", \"categories\": [0], \"series\": [{\"data\": [0.8902205614498688]}]}], \"run_logs\": \"\\nRun is completed.\", \"graph\": {}, \"widget_settings\": {\"childWidgetDisplay\": \"popup\", \"send_telemetry\": false, \"log_level\": \"INFO\", \"sdk_version\": \"1.33.0\"}, \"loading\": false}"
     },
     "metadata": {},
     "output_type": "display_data"
    },
    {
     "data": {
      "text/html": [
       "<table style=\"width:100%\"><tr><th>Experiment</th><th>Id</th><th>Type</th><th>Status</th><th>Details Page</th><th>Docs Page</th></tr><tr><td>mslearn-diabetes-automl-sdk</td><td>AutoML_d9042b46-973b-41bc-a639-f8de369aec2a</td><td>automl</td><td>NotStarted</td><td><a href=\"https://ml.azure.com/runs/AutoML_d9042b46-973b-41bc-a639-f8de369aec2a?wsid=/subscriptions/2bfd1cd3-851a-4267-8cd5-eff6767da991/resourcegroups/dp100-esi-course/workspaces/dp-100-module1-ml&amp;tid=a9c3340e-e390-4e58-8d69-193d480ee19a\" target=\"_blank\" rel=\"noopener\">Link to Azure Machine Learning studio</a></td><td><a href=\"https://docs.microsoft.com/en-us/python/api/overview/azure/ml/intro?view=azure-ml-py\" target=\"_blank\" rel=\"noopener\">Link to Documentation</a></td></tr></table>"
      ],
      "text/plain": [
       "<IPython.core.display.HTML object>"
      ]
     },
     "metadata": {},
     "output_type": "display_data"
    },
    {
     "name": "stdout",
     "output_type": "stream",
     "text": [
      "\n",
      "Current status: FeaturesGeneration. Generating features for the dataset.\n",
      "Current status: DatasetFeaturization. Beginning to fit featurizers and featurize the dataset.\n",
      "Current status: ModelSelection. Beginning model selection.\n",
      "\n",
      "****************************************************************************************************\n",
      "DATA GUARDRAILS: \n",
      "\n",
      "TYPE:         Class balancing detection\n",
      "STATUS:       PASSED\n",
      "DESCRIPTION:  Your inputs were analyzed, and all classes are balanced in your training data.\n",
      "              Learn more about imbalanced data: https://aka.ms/AutomatedMLImbalancedData\n",
      "\n",
      "****************************************************************************************************\n",
      "\n",
      "TYPE:         Missing feature values imputation\n",
      "STATUS:       PASSED\n",
      "DESCRIPTION:  No feature missing values were detected in the training data.\n",
      "              Learn more about missing value imputation: https://aka.ms/AutomatedMLFeaturization\n",
      "\n",
      "****************************************************************************************************\n",
      "\n",
      "TYPE:         High cardinality feature detection\n",
      "STATUS:       PASSED\n",
      "DESCRIPTION:  Your inputs were analyzed, and no high cardinality features were detected.\n",
      "              Learn more about high cardinality feature handling: https://aka.ms/AutomatedMLFeaturization\n",
      "\n",
      "****************************************************************************************************\n",
      "\n",
      "****************************************************************************************************\n",
      "ITERATION: The iteration being evaluated.\n",
      "PIPELINE: A summary description of the pipeline being evaluated.\n",
      "DURATION: Time taken for the current iteration.\n",
      "METRIC: The result of computing score on the fitted pipeline.\n",
      "BEST: The best observed score thus far.\n",
      "****************************************************************************************************\n",
      "\n",
      " ITERATION   PIPELINE                                       DURATION      METRIC      BEST\n",
      "         0   MaxAbsScaler LightGBM                          0:00:54       0.9905    0.9905\n",
      "         1   MaxAbsScaler XGBoostClassifier                 0:01:04       0.9882    0.9905\n",
      "         3    StackEnsemble                                 0:00:57       0.9900    0.9905\n",
      "         2    VotingEnsemble                                0:01:02       0.9903    0.9905\n"
     ]
    },
    {
     "data": {
      "text/plain": [
       "{'runId': 'AutoML_d9042b46-973b-41bc-a639-f8de369aec2a',\n",
       " 'target': 'dp100clusterday2',\n",
       " 'status': 'Completed',\n",
       " 'startTimeUtc': '2021-09-15T18:49:28.218527Z',\n",
       " 'endTimeUtc': '2021-09-15T19:01:44.29948Z',\n",
       " 'properties': {'num_iterations': '4',\n",
       "  'training_type': 'TrainFull',\n",
       "  'acquisition_function': 'EI',\n",
       "  'primary_metric': 'AUC_weighted',\n",
       "  'train_split': '0',\n",
       "  'acquisition_parameter': '0',\n",
       "  'num_cross_validation': None,\n",
       "  'target': 'dp100clusterday2',\n",
       "  'AMLSettingsJsonString': '{\"path\":null,\"name\":\"Automated ML Experiment\",\"subscription_id\":\"2bfd1cd3-851a-4267-8cd5-eff6767da991\",\"resource_group\":\"dp100-esi-course\",\"workspace_name\":\"dp-100-module1-ml\",\"region\":\"canadacentral\",\"compute_target\":\"dp100clusterday2\",\"spark_service\":null,\"azure_service\":\"remote\",\"many_models\":false,\"pipeline_fetch_max_batch_size\":1,\"enable_batch_run\":false,\"enable_run_restructure\":false,\"start_auxiliary_runs_before_parent_complete\":false,\"enable_code_generation\":false,\"iterations\":4,\"primary_metric\":\"AUC_weighted\",\"task_type\":\"classification\",\"data_script\":null,\"test_size\":0.0,\"validation_size\":0.0,\"n_cross_validations\":null,\"y_min\":null,\"y_max\":null,\"num_classes\":null,\"featurization\":\"auto\",\"_ignore_package_version_incompatibilities\":false,\"is_timeseries\":false,\"max_cores_per_iteration\":1,\"max_concurrent_iterations\":2,\"iteration_timeout_minutes\":null,\"mem_in_mb\":null,\"enforce_time_on_windows\":false,\"experiment_timeout_minutes\":8640,\"experiment_exit_score\":null,\"whitelist_models\":null,\"blacklist_algos\":[\"TensorFlowLinearClassifier\",\"TensorFlowDNN\"],\"supported_models\":[\"RandomForest\",\"XGBoostClassifier\",\"LinearSVM\",\"AveragedPerceptronClassifier\",\"BernoulliNaiveBayes\",\"LightGBM\",\"GradientBoosting\",\"ExtremeRandomTrees\",\"TensorFlowLinearClassifier\",\"MultinomialNaiveBayes\",\"TensorFlowDNN\",\"LogisticRegression\",\"DecisionTree\",\"SGD\",\"SVM\",\"KNN\"],\"private_models\":[],\"auto_blacklist\":true,\"blacklist_samples_reached\":false,\"exclude_nan_labels\":true,\"verbosity\":20,\"_debug_log\":\"azureml_automl.log\",\"show_warnings\":false,\"model_explainability\":true,\"service_url\":null,\"sdk_url\":null,\"sdk_packages\":null,\"enable_onnx_compatible_models\":false,\"enable_split_onnx_featurizer_estimator_models\":false,\"vm_type\":\"STANDARD_D11_V2\",\"telemetry_verbosity\":20,\"send_telemetry\":true,\"enable_dnn\":false,\"scenario\":\"SDK-1.13.0\",\"environment_label\":null,\"save_mlflow\":false,\"force_text_dnn\":false,\"enable_feature_sweeping\":true,\"enable_early_stopping\":true,\"early_stopping_n_iters\":10,\"metrics\":null,\"enable_metric_confidence\":false,\"enable_ensembling\":true,\"enable_stack_ensembling\":true,\"ensemble_iterations\":4,\"enable_tf\":false,\"enable_subsampling\":false,\"subsample_seed\":null,\"enable_nimbusml\":false,\"enable_streaming\":false,\"force_streaming\":false,\"track_child_runs\":true,\"allowed_private_models\":[],\"label_column_name\":\"Diabetic\",\"weight_column_name\":null,\"cv_split_column_names\":null,\"enable_local_managed\":false,\"_local_managed_run_id\":null,\"cost_mode\":1,\"lag_length\":0,\"metric_operation\":\"maximize\",\"preprocess\":true}',\n",
       "  'DataPrepJsonString': '{\\\\\"training_data\\\\\": {\\\\\"datasetId\\\\\": \\\\\"e9ae576e-135a-4a3d-bd78-866aaa03d29b\\\\\"}, \\\\\"validation_data\\\\\": {\\\\\"datasetId\\\\\": \\\\\"ba5ab67d-9a7f-4d8f-99b8-3f2c8197cff5\\\\\"}, \\\\\"datasets\\\\\": 0}',\n",
       "  'EnableSubsampling': 'False',\n",
       "  'runTemplate': 'AutoML',\n",
       "  'azureml.runsource': 'automl',\n",
       "  'display_task_type': 'classification',\n",
       "  'dependencies_versions': '{\"azureml-widgets\": \"1.33.0\", \"azureml-train\": \"1.33.0\", \"azureml-train-restclients-hyperdrive\": \"1.33.0\", \"azureml-train-core\": \"1.33.0\", \"azureml-train-automl\": \"1.33.0\", \"azureml-train-automl-runtime\": \"1.33.0\", \"azureml-train-automl-client\": \"1.33.0\", \"azureml-tensorboard\": \"1.33.0\", \"azureml-telemetry\": \"1.33.0\", \"azureml-sdk\": \"1.33.0\", \"azureml-samples\": \"0+unknown\", \"azureml-responsibleai\": \"1.33.0\", \"azureml-pipeline\": \"1.33.0\", \"azureml-pipeline-steps\": \"1.33.0\", \"azureml-pipeline-core\": \"1.33.0\", \"azureml-opendatasets\": \"1.33.0\", \"azureml-mlflow\": \"1.33.0\", \"azureml-interpret\": \"1.33.0\", \"azureml-explain-model\": \"1.33.0\", \"azureml-defaults\": \"1.33.0\", \"azureml-dataset-runtime\": \"1.33.0\", \"azureml-dataprep\": \"2.20.1\", \"azureml-dataprep-rslex\": \"1.18.0\", \"azureml-dataprep-native\": \"38.0.0\", \"azureml-datadrift\": \"1.33.0\", \"azureml-core\": \"1.33.0\", \"azureml-contrib-services\": \"1.33.0\", \"azureml-contrib-server\": \"1.33.0\", \"azureml-contrib-reinforcementlearning\": \"1.33.0\", \"azureml-contrib-pipeline-steps\": \"1.33.0\", \"azureml-contrib-notebook\": \"1.33.0\", \"azureml-contrib-fairness\": \"1.33.0\", \"azureml-contrib-dataset\": \"1.33.0\", \"azureml-cli-common\": \"1.33.0\", \"azureml-automl-runtime\": \"1.33.0\", \"azureml-automl-dnn-nlp\": \"1.33.0\", \"azureml-automl-core\": \"1.33.0\", \"azureml-accel-models\": \"1.33.0\"}',\n",
       "  '_aml_system_scenario_identification': 'Remote.Parent',\n",
       "  'ClientType': 'SDK',\n",
       "  'environment_cpu_name': 'AzureML-AutoML',\n",
       "  'environment_cpu_label': 'prod',\n",
       "  'environment_gpu_name': 'AzureML-AutoML-GPU',\n",
       "  'environment_gpu_label': 'prod',\n",
       "  'root_attribution': 'automl',\n",
       "  'attribution': 'AutoML',\n",
       "  'Orchestrator': 'AutoML',\n",
       "  'CancelUri': 'https://canadacentral.api.azureml.ms/jasmine/v1.0/subscriptions/2bfd1cd3-851a-4267-8cd5-eff6767da991/resourceGroups/dp100-esi-course/providers/Microsoft.MachineLearningServices/workspaces/dp-100-module1-ml/experimentids/04e69191-703d-4472-8e11-6ab15d1bd33d/cancel/AutoML_d9042b46-973b-41bc-a639-f8de369aec2a',\n",
       "  'azureml.git.repository_uri': 'git@github.com:RubaiyatAshna/ESI-Learning-Modules.git',\n",
       "  'mlflow.source.git.repoURL': 'git@github.com:RubaiyatAshna/ESI-Learning-Modules.git',\n",
       "  'azureml.git.branch': 'main',\n",
       "  'mlflow.source.git.branch': 'main',\n",
       "  'azureml.git.commit': '8516fb942eff0e5d2cfa71d4dce0642fc2eebf0c',\n",
       "  'mlflow.source.git.commit': '8516fb942eff0e5d2cfa71d4dce0642fc2eebf0c',\n",
       "  'azureml.git.dirty': 'True',\n",
       "  'ClientSdkVersion': '1.33.1.post1',\n",
       "  'snapshotId': '00000000-0000-0000-0000-000000000000',\n",
       "  'SetupRunId': 'AutoML_d9042b46-973b-41bc-a639-f8de369aec2a_setup',\n",
       "  'SetupRunContainerId': 'dcid.AutoML_d9042b46-973b-41bc-a639-f8de369aec2a_setup',\n",
       "  'FeaturizationRunJsonPath': 'featurizer_container.json',\n",
       "  'FeaturizationRunId': 'AutoML_d9042b46-973b-41bc-a639-f8de369aec2a_featurize',\n",
       "  'ProblemInfoJsonString': '{\"dataset_num_categorical\": 0, \"is_sparse\": true, \"subsampling\": false, \"has_extra_col\": true, \"dataset_classes\": 2, \"dataset_features\": 23, \"dataset_samples\": 10555, \"single_frequency_class_detected\": false}',\n",
       "  'ModelExplainRunId': 'AutoML_d9042b46-973b-41bc-a639-f8de369aec2a_ModelExplain'},\n",
       " 'inputDatasets': [{'dataset': {'id': 'e9ae576e-135a-4a3d-bd78-866aaa03d29b'}, 'consumptionDetails': {'type': 'RunInput', 'inputName': 'training_data', 'mechanism': 'Direct'}}, {'dataset': {'id': 'ba5ab67d-9a7f-4d8f-99b8-3f2c8197cff5'}, 'consumptionDetails': {'type': 'RunInput', 'inputName': 'validation_data', 'mechanism': 'Direct'}}],\n",
       " 'outputDatasets': [],\n",
       " 'logFiles': {},\n",
       " 'submittedBy': 'Rubaiyat Ashna'}"
      ]
     },
     "execution_count": 11,
     "metadata": {},
     "output_type": "execute_result"
    }
   ],
   "source": [
    "from azureml.core.experiment import Experiment\n",
    "from azureml.widgets import RunDetails\n",
    "\n",
    "print('Submitting Auto ML experiment...')\n",
    "automl_experiment = Experiment(ws, 'mslearn-diabetes-automl-sdk')\n",
    "automl_run = automl_experiment.submit(automl_config)\n",
    "RunDetails(automl_run).show()\n",
    "automl_run.wait_for_completion(show_output=True)"
   ]
  },
  {
   "cell_type": "markdown",
   "metadata": {},
   "source": [
    "## View child run details\n",
    "\n",
    "When the experiment has completed, view the output in the widget, and click the run that produced the best result to see its details.\n",
    "\n",
    "Then click the link to view the experiment details in Azure Machine Learning studio and view the overall experiment details before viewing the details for the individual run that produced the best result. There's lots of information here about the performance of the model generated.\n",
    "\n",
    "You can also retrieve all of the child runs and view their metrics using the SDK:"
   ]
  },
  {
   "cell_type": "code",
   "execution_count": 12,
   "metadata": {},
   "outputs": [
    {
     "name": "stdout",
     "output_type": "stream",
     "text": [
      "Run ID AutoML_d9042b46-973b-41bc-a639-f8de369aec2a_2\n",
      "\t {'norm_macro_recall': 0.8905577158665916}\n",
      "\t {'average_precision_score_macro': 0.9887602234083721}\n",
      "\t {'precision_score_micro': 0.9523059617547807}\n",
      "\t {'weighted_accuracy': 0.9579185290093026}\n",
      "\t {'recall_score_macro': 0.9452788579332958}\n",
      "\t {'balanced_accuracy': 0.9452788579332958}\n",
      "\t {'average_precision_score_weighted': 0.9908730553007605}\n",
      "\t {'recall_score_weighted': 0.9523059617547807}\n",
      "\t {'f1_score_macro': 0.9461858998080295}\n",
      "\t {'log_loss': 0.12239111107696071}\n",
      "\t {'AUC_macro': 0.9902927339233878}\n",
      "\t {'f1_score_micro': 0.9523059617547807}\n",
      "\t {'f1_score_weighted': 0.9522569685971016}\n",
      "\t {'AUC_micro': 0.991432139598973}\n",
      "\t {'average_precision_score_micro': 0.9916360004915719}\n",
      "\t {'recall_score_micro': 0.9523059617547807}\n",
      "\t {'precision_score_weighted': 0.9522234676476355}\n",
      "\t {'AUC_weighted': 0.9902927339233877}\n",
      "\t {'matthews_correlation': 0.8923892448229966}\n",
      "\t {'precision_score_macro': 0.9471122702591099}\n",
      "\t {'accuracy': 0.9523059617547807}\n",
      "\t {'confusion_matrix': 'aml://artifactId/ExperimentRun/dcid.AutoML_d9042b46-973b-41bc-a639-f8de369aec2a_2/confusion_matrix'}\n",
      "\t {'accuracy_table': 'aml://artifactId/ExperimentRun/dcid.AutoML_d9042b46-973b-41bc-a639-f8de369aec2a_2/accuracy_table'}\n",
      "Run ID AutoML_d9042b46-973b-41bc-a639-f8de369aec2a_3\n",
      "\t {'log_loss': 0.16753062052441928}\n",
      "\t {'AUC_weighted': 0.9899738163919508}\n",
      "\t {'precision_score_weighted': 0.9498834033358355}\n",
      "\t {'recall_score_micro': 0.9500562429696288}\n",
      "\t {'norm_macro_recall': 0.8793896752785799}\n",
      "\t {'f1_score_macro': 0.9432937971933938}\n",
      "\t {'weighted_accuracy': 0.958331926059736}\n",
      "\t {'f1_score_weighted': 0.9498447788671798}\n",
      "\t {'accuracy': 0.9500562429696288}\n",
      "\t {'average_precision_score_micro': 0.9897043633190965}\n",
      "\t {'recall_score_weighted': 0.9500562429696288}\n",
      "\t {'average_precision_score_weighted': 0.9905886608770056}\n",
      "\t {'AUC_macro': 0.9899738163919508}\n",
      "\t {'recall_score_macro': 0.93969483763929}\n",
      "\t {'balanced_accuracy': 0.93969483763929}\n",
      "\t {'precision_score_micro': 0.9500562429696288}\n",
      "\t {'average_precision_score_macro': 0.9884285278790617}\n",
      "\t {'precision_score_macro': 0.9472061894248921}\n",
      "\t {'f1_score_micro': 0.9500562429696288}\n",
      "\t {'matthews_correlation': 0.8868692188828371}\n",
      "\t {'AUC_micro': 0.9896036167582539}\n",
      "\t {'accuracy_table': 'aml://artifactId/ExperimentRun/dcid.AutoML_d9042b46-973b-41bc-a639-f8de369aec2a_3/accuracy_table'}\n",
      "\t {'confusion_matrix': 'aml://artifactId/ExperimentRun/dcid.AutoML_d9042b46-973b-41bc-a639-f8de369aec2a_3/confusion_matrix'}\n",
      "Run ID AutoML_d9042b46-973b-41bc-a639-f8de369aec2a_1\n",
      "\t {'precision_score_weighted': 0.9440467334517999}\n",
      "\t {'recall_score_micro': 0.944206974128234}\n",
      "\t {'accuracy': 0.944206974128234}\n",
      "\t {'average_precision_score_micro': 0.9898548572689291}\n",
      "\t {'AUC_micro': 0.9896202682201284}\n",
      "\t {'matthews_correlation': 0.8739368529349385}\n",
      "\t {'f1_score_micro': 0.944206974128234}\n",
      "\t {'AUC_macro': 0.9882270647231617}\n",
      "\t {'norm_macro_recall': 0.8706236604437856}\n",
      "\t {'AUC_weighted': 0.9882270647231618}\n",
      "\t {'f1_score_macro': 0.9369393323381163}\n",
      "\t {'average_precision_score_macro': 0.9863803228939675}\n",
      "\t {'recall_score_weighted': 0.944206974128234}\n",
      "\t {'weighted_accuracy': 0.951311550164289}\n",
      "\t {'average_precision_score_weighted': 0.9889316609728803}\n",
      "\t {'f1_score_weighted': 0.9441010177866949}\n",
      "\t {'recall_score_macro': 0.9353118302218928}\n",
      "\t {'precision_score_macro': 0.9386313269550405}\n",
      "\t {'precision_score_micro': 0.944206974128234}\n",
      "\t {'balanced_accuracy': 0.9353118302218928}\n",
      "\t {'log_loss': 0.14557718390107108}\n",
      "\t {'confusion_matrix': 'aml://artifactId/ExperimentRun/dcid.AutoML_d9042b46-973b-41bc-a639-f8de369aec2a_1/confusion_matrix'}\n",
      "\t {'accuracy_table': 'aml://artifactId/ExperimentRun/dcid.AutoML_d9042b46-973b-41bc-a639-f8de369aec2a_1/accuracy_table'}\n",
      "Run ID AutoML_d9042b46-973b-41bc-a639-f8de369aec2a_0\n",
      "\t {'log_loss': 0.1186120500342212}\n",
      "\t {'norm_macro_recall': 0.8902205614498688}\n",
      "\t {'average_precision_score_macro': 0.9888863976623419}\n",
      "\t {'recall_score_weighted': 0.9520809898762654}\n",
      "\t {'weighted_accuracy': 0.9576485145517856}\n",
      "\t {'AUC_micro': 0.9916008305485999}\n",
      "\t {'precision_score_micro': 0.9520809898762654}\n",
      "\t {'recall_score_micro': 0.9520809898762654}\n",
      "\t {'recall_score_macro': 0.9451102807249344}\n",
      "\t {'average_precision_score_micro': 0.9918359683181054}\n",
      "\t {'precision_score_macro': 0.9467885716011675}\n",
      "\t {'f1_score_weighted': 0.952035905457969}\n",
      "\t {'average_precision_score_weighted': 0.9910085472336622}\n",
      "\t {'matthews_correlation': 0.8918972733002116}\n",
      "\t {'f1_score_micro': 0.9520809898762654}\n",
      "\t {'AUC_weighted': 0.9904812577250306}\n",
      "\t {'AUC_macro': 0.9904812577250306}\n",
      "\t {'precision_score_weighted': 0.9520038306966419}\n",
      "\t {'accuracy': 0.9520809898762654}\n",
      "\t {'balanced_accuracy': 0.9451102807249344}\n",
      "\t {'f1_score_macro': 0.9459413118209691}\n",
      "\t {'confusion_matrix': 'aml://artifactId/ExperimentRun/dcid.AutoML_d9042b46-973b-41bc-a639-f8de369aec2a_0/confusion_matrix'}\n",
      "\t {'accuracy_table': 'aml://artifactId/ExperimentRun/dcid.AutoML_d9042b46-973b-41bc-a639-f8de369aec2a_0/accuracy_table'}\n"
     ]
    }
   ],
   "source": [
    "for run in automl_run.get_children():\n",
    "    print('Run ID', run.id)\n",
    "    for metric in run.get_metrics():\n",
    "        print('\\t', run.get_metrics(metric))"
   ]
  },
  {
   "cell_type": "markdown",
   "metadata": {},
   "source": [
    "## Get the best run\n",
    "\n",
    "You can retrieve the best-performing run, and view its details like this:"
   ]
  },
  {
   "cell_type": "code",
   "execution_count": 13,
   "metadata": {},
   "outputs": [
    {
     "name": "stdout",
     "output_type": "stream",
     "text": [
      "Run(Experiment: mslearn-diabetes-automl-sdk,\n",
      "Id: AutoML_d9042b46-973b-41bc-a639-f8de369aec2a_0,\n",
      "Type: azureml.scriptrun,\n",
      "Status: Completed)\n",
      "\n",
      "Best Model Definition:\n",
      "Pipeline(memory=None,\n",
      "         steps=[('datatransformer',\n",
      "                 DataTransformer(enable_dnn=False, enable_feature_sweeping=True, feature_sweeping_config={}, feature_sweeping_timeout=86400, featurization_config=None, force_text_dnn=False, is_cross_validation=False, is_onnx_compatible=False, observer=None, task='classification', working_dir='/mnt/batch/tasks/shared/LS_root/mounts/clusters/dp100computeday2/code/Users/ashna.forwork/mslearn-dp100')),\n",
      "                ('MaxAbsScaler', MaxAbsScaler(copy=True)),\n",
      "                ('LightGBMClassifier',\n",
      "                 LightGBMClassifier(min_data_in_leaf=20, n_jobs=1, problem_info=ProblemInfo(), random_state=None))],\n",
      "         verbose=False)\n",
      "\n",
      "Best Run Transformations:\n",
      "datatransformer\n",
      "MaxAbsScaler\n",
      "LightGBMClassifier\n",
      "\n",
      "Best Run Metrics:\n",
      "log_loss 0.1186120500342212\n",
      "norm_macro_recall 0.8902205614498688\n",
      "average_precision_score_macro 0.9888863976623419\n",
      "recall_score_weighted 0.9520809898762654\n",
      "weighted_accuracy 0.9576485145517856\n",
      "AUC_micro 0.9916008305485999\n",
      "precision_score_micro 0.9520809898762654\n",
      "recall_score_micro 0.9520809898762654\n",
      "recall_score_macro 0.9451102807249344\n",
      "average_precision_score_micro 0.9918359683181054\n",
      "precision_score_macro 0.9467885716011675\n",
      "f1_score_weighted 0.952035905457969\n",
      "average_precision_score_weighted 0.9910085472336622\n",
      "matthews_correlation 0.8918972733002116\n",
      "f1_score_micro 0.9520809898762654\n",
      "AUC_weighted 0.9904812577250306\n",
      "AUC_macro 0.9904812577250306\n",
      "precision_score_weighted 0.9520038306966419\n",
      "accuracy 0.9520809898762654\n",
      "balanced_accuracy 0.9451102807249344\n",
      "f1_score_macro 0.9459413118209691\n",
      "confusion_matrix aml://artifactId/ExperimentRun/dcid.AutoML_d9042b46-973b-41bc-a639-f8de369aec2a_0/confusion_matrix\n",
      "accuracy_table aml://artifactId/ExperimentRun/dcid.AutoML_d9042b46-973b-41bc-a639-f8de369aec2a_0/accuracy_table\n"
     ]
    }
   ],
   "source": [
    "best_run, fitted_model = automl_run.get_output()\n",
    "print(best_run)\n",
    "print('\\nBest Model Definition:')\n",
    "print(fitted_model)\n",
    "print('\\nBest Run Transformations:')\n",
    "for step in fitted_model.named_steps:\n",
    "    print(step)\n",
    "print('\\nBest Run Metrics:')\n",
    "best_run_metrics = best_run.get_metrics()\n",
    "for metric_name in best_run_metrics:\n",
    "    metric = best_run_metrics[metric_name]\n",
    "    print(metric_name, metric)"
   ]
  },
  {
   "cell_type": "markdown",
   "metadata": {},
   "source": [
    "Finally, having found the best performing model, you can register it."
   ]
  },
  {
   "cell_type": "code",
   "execution_count": 14,
   "metadata": {},
   "outputs": [
    {
     "name": "stdout",
     "output_type": "stream",
     "text": [
      "diabetes_model version: 10\n",
      "\t Training context : Auto ML\n",
      "\t AUC : 0.9904812577250306\n",
      "\t Accuracy : 0.9520809898762654\n",
      "\n",
      "\n",
      "diabetes_model version: 9\n",
      "\t Training context : Hyperdrive\n",
      "\t AUC : 0.9885804604667666\n",
      "\t Accuracy : 0.9457777777777778\n",
      "\n",
      "\n",
      "diabetes_model version: 8\n",
      "\t Training context : Inline Training\n",
      "\t AUC : 0.8775983879795015\n",
      "\t Accuracy : 0.8903333333333333\n",
      "\n",
      "\n",
      "diabetes_model version: 7\n",
      "\t Training context : Inline Training\n",
      "\t AUC : 0.8756107269018358\n",
      "\t Accuracy : 0.8886666666666667\n",
      "\n",
      "\n",
      "diabetes_model version: 6\n",
      "\t Training context : Pipeline\n",
      "\t AUC : 0.8852547024821248\n",
      "\t Accuracy : 0.9002222222222223\n",
      "\n",
      "\n",
      "diabetes_model version: 5\n",
      "\t Training context : Compute cluster\n",
      "\t AUC : 0.8850872543910331\n",
      "\t Accuracy : 0.9\n",
      "\n",
      "\n",
      "diabetes_model version: 4\n",
      "\t Training context : File dataset\n",
      "\t AUC : 0.8568743524381947\n",
      "\t Accuracy : 0.7891111111111111\n",
      "\n",
      "\n",
      "diabetes_model version: 3\n",
      "\t Training context : Tabular dataset\n",
      "\t AUC : 0.8568509052814499\n",
      "\t Accuracy : 0.7891111111111111\n",
      "\n",
      "\n",
      "diabetes_model version: 2\n",
      "\t Training context : Parameterized script\n",
      "\t AUC : 0.8483198169063138\n",
      "\t Accuracy : 0.774\n",
      "\n",
      "\n",
      "diabetes_model version: 1\n",
      "\t Training context : Script\n",
      "\t AUC : 0.8484929598487486\n",
      "\t Accuracy : 0.774\n",
      "\n",
      "\n",
      "amlstudio-designer-predict-dia version: 1\n",
      "\t CreatedByAMLStudio : true\n",
      "\n",
      "\n",
      "AutoML5e54917f70 version: 1\n",
      "\n",
      "\n"
     ]
    }
   ],
   "source": [
    "from azureml.core import Model\n",
    "\n",
    "# Register model\n",
    "best_run.register_model(model_path='outputs/model.pkl', model_name='diabetes_model',\n",
    "                        tags={'Training context':'Auto ML'},\n",
    "                        properties={'AUC': best_run_metrics['AUC_weighted'], 'Accuracy': best_run_metrics['accuracy']})\n",
    "\n",
    "# List registered models\n",
    "for model in Model.list(ws):\n",
    "    print(model.name, 'version:', model.version)\n",
    "    for tag_name in model.tags:\n",
    "        tag = model.tags[tag_name]\n",
    "        print ('\\t',tag_name, ':', tag)\n",
    "    for prop_name in model.properties:\n",
    "        prop = model.properties[prop_name]\n",
    "        print ('\\t',prop_name, ':', prop)\n",
    "    print('\\n')"
   ]
  },
  {
   "cell_type": "markdown",
   "metadata": {},
   "source": [
    "> **More Information**: For more information Automated Machine Learning, see the [Azure ML documentation](https://docs.microsoft.com/azure/machine-learning/how-to-configure-auto-train)."
   ]
  }
 ],
 "metadata": {
  "kernelspec": {
   "display_name": "Python 3.6 - AzureML",
   "language": "python",
   "name": "python3-azureml"
  },
  "language_info": {
   "codemirror_mode": {
    "name": "ipython",
    "version": 3
   },
   "file_extension": ".py",
   "mimetype": "text/x-python",
   "name": "python",
   "nbconvert_exporter": "python",
   "pygments_lexer": "ipython3",
   "version": "3.6.9"
  }
 },
 "nbformat": 4,
 "nbformat_minor": 2
}
